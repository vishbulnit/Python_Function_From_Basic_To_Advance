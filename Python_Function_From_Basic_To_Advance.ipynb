{
 "cells": [
  {
   "cell_type": "markdown",
   "id": "efb7e1d2",
   "metadata": {},
   "source": [
    "## simple function"
   ]
  },
  {
   "cell_type": "code",
   "execution_count": 7,
   "id": "b11e57e7",
   "metadata": {},
   "outputs": [
    {
     "name": "stdout",
     "output_type": "stream",
     "text": [
      "1  -  odd\n",
      "2  -  even\n",
      "3  -  odd\n",
      "4  -  even\n",
      "5  -  odd\n",
      "6  -  even\n",
      "7  -  odd\n",
      "8  -  even\n",
      "9  -  odd\n",
      "10  -  even\n"
     ]
    }
   ],
   "source": [
    "def odd_or_even(i):  ## i is parameter\n",
    "    \"\"\"\n",
    "    this function takes integer input and return ouput \n",
    "    input = integer\n",
    "    output = odd or even\n",
    "    \"\"\"\n",
    "    if type(i)==int:\n",
    "        if i%2==0:\n",
    "            return \"even\"\n",
    "        else:\n",
    "            return \"odd\"\n",
    "        \n",
    "    else:\n",
    "        print(\"Input is wrong.\")\n",
    "            \n",
    "            \n",
    "for i in range(1,11): \n",
    "    x = odd_or_even(i) ##  i as passing argument\n",
    "    print(i, \" - \" ,x)"
   ]
  },
  {
   "cell_type": "code",
   "execution_count": 8,
   "id": "4e15e4cb",
   "metadata": {},
   "outputs": [
    {
     "name": "stdout",
     "output_type": "stream",
     "text": [
      "Input is wrong.\n"
     ]
    }
   ],
   "source": [
    "odd_or_even('Hi')  ## hi as passing argument"
   ]
  },
  {
   "cell_type": "markdown",
   "id": "055ef4b2",
   "metadata": {},
   "source": [
    "## Type of argument\n",
    "###  1) default agrument\n",
    "###  2) positional agrument\n",
    "###  3) keyword agrumen"
   ]
  },
  {
   "cell_type": "code",
   "execution_count": 14,
   "id": "1eb41b5f",
   "metadata": {},
   "outputs": [
    {
     "name": "stdout",
     "output_type": "stream",
     "text": [
      "4.5\n",
      "2.5\n",
      "2.5\n"
     ]
    }
   ],
   "source": [
    "## default argument\n",
    "def avg_num(a=1,b=1,c=1,d=1):\n",
    "    s = a+b+c+d\n",
    "    avg=s/4\n",
    "    return avg\n",
    "\n",
    "print(avg_num(2,4,5,7))\n",
    "print(avg_num(7))\n",
    "print(avg_num(2,6))"
   ]
  },
  {
   "cell_type": "code",
   "execution_count": 15,
   "id": "97c16606",
   "metadata": {},
   "outputs": [
    {
     "name": "stdout",
     "output_type": "stream",
     "text": [
      "4.5\n"
     ]
    }
   ],
   "source": [
    "## positional argument\n",
    "def avg_num_1(a,b,c,d):\n",
    "    s = a+b+c+d\n",
    "    avg=s/4\n",
    "    return avg\n",
    "\n",
    "print(avg_num(2,4,5,7))"
   ]
  },
  {
   "cell_type": "code",
   "execution_count": 17,
   "id": "fcdf05a1",
   "metadata": {},
   "outputs": [
    {
     "name": "stdout",
     "output_type": "stream",
     "text": [
      "7.25\n"
     ]
    }
   ],
   "source": [
    "## keyword argument\n",
    "print(avg_num(d=2,a=11,b=7,c=9))"
   ]
  },
  {
   "cell_type": "markdown",
   "id": "7d152276",
   "metadata": {},
   "source": [
    "## *args and **kwargs\n",
    "###  *args and **kwargs are special Python keywords that are used to pass variable length of argument of a function\n"
   ]
  },
  {
   "cell_type": "code",
   "execution_count": 21,
   "id": "4d3cc8f8",
   "metadata": {},
   "outputs": [
    {
     "name": "stdout",
     "output_type": "stream",
     "text": [
      "(1,)\n",
      "1\n",
      "(1, 2, 3, 4, 5)\n",
      "15\n",
      "(1, 2, 3, 4, 5, 6, 7, 8, 9, 10)\n",
      "55\n",
      "(4, 6, 8, 2, 4, 69, 8, 77, 9, 2, 3, 5, 6, 6, 71, 2, 3, 4, 0)\n",
      "289\n"
     ]
    }
   ],
   "source": [
    "## *args\n",
    "\n",
    "##  allows us to pass a variable number of non-keyword argument to a function\n",
    "\n",
    "##  we can pass n number of argument, BTW args create tuple behing the scene\n",
    "\n",
    "def addition(*args):\n",
    "    add = 0\n",
    "    \n",
    "    for i in args:\n",
    "        add = add + i\n",
    "    \n",
    "    print(args)\n",
    "    return add\n",
    "    \n",
    "print(addition(1))\n",
    "print(addition(1,2,3,4,5))\n",
    "print(addition(1,2,3,4,5,6,7,8,9,10))\n",
    "print(addition(4,6,8,2,4,69,8,77,9,2,3,5,6,6,71,2,3,4,0))"
   ]
  },
  {
   "cell_type": "markdown",
   "id": "ce8c6f72",
   "metadata": {},
   "source": [
    "## **kwargs\n",
    "### **kwargs allows us to pass any number of keyward arguments.\n",
    "### keyword arguments mean that they contain a key-value pair, like a Python dictionary."
   ]
  },
  {
   "cell_type": "code",
   "execution_count": 4,
   "id": "31cb6bb8",
   "metadata": {},
   "outputs": [],
   "source": [
    "def display(**kwargs):\n",
    "    for (key,value) in kwargs.items():\n",
    "        print(key,\"--\",value)"
   ]
  },
  {
   "cell_type": "code",
   "execution_count": 5,
   "id": "14123898",
   "metadata": {},
   "outputs": [
    {
     "name": "stdout",
     "output_type": "stream",
     "text": [
      "India -- Delhi\n",
      "Pakistan -- Islamabad\n",
      "Srilanka -- Colombo\n"
     ]
    }
   ],
   "source": [
    "display(India='Delhi',Pakistan='Islamabad',Srilanka='Colombo')"
   ]
  },
  {
   "cell_type": "code",
   "execution_count": 6,
   "id": "52b4fecb",
   "metadata": {},
   "outputs": [
    {
     "name": "stdout",
     "output_type": "stream",
     "text": [
      "one -- 1\n",
      "five -- 5\n",
      "sixteen -- 16\n",
      "nine -- 9\n"
     ]
    }
   ],
   "source": [
    "display(one=1,five=5,sixteen=16,nine=9)"
   ]
  },
  {
   "cell_type": "markdown",
   "id": "78e119cf",
   "metadata": {},
   "source": [
    "### points to remember while using *args and **kwargs\n",
    "### order of the arguments matter (normal >> *args >> **kwargs )\n",
    "### the words \"args\" and \"kwargs\" are only a convention, you can use any name of your choice"
   ]
  },
  {
   "cell_type": "code",
   "execution_count": null,
   "id": "b2d9a568",
   "metadata": {},
   "outputs": [],
   "source": []
  },
  {
   "cell_type": "markdown",
   "id": "5b39a58c",
   "metadata": {},
   "source": [
    "## without return statement"
   ]
  },
  {
   "cell_type": "code",
   "execution_count": 7,
   "id": "9f3b8673",
   "metadata": {},
   "outputs": [],
   "source": [
    "def message(msg):\n",
    "    print(\"Hellow \", msg)"
   ]
  },
  {
   "cell_type": "code",
   "execution_count": 8,
   "id": "2b790143",
   "metadata": {},
   "outputs": [
    {
     "name": "stdout",
     "output_type": "stream",
     "text": [
      "Hellow  Good Morning\n"
     ]
    }
   ],
   "source": [
    "message('Good Morning')"
   ]
  },
  {
   "cell_type": "code",
   "execution_count": 11,
   "id": "d7612698",
   "metadata": {},
   "outputs": [
    {
     "name": "stdout",
     "output_type": "stream",
     "text": [
      "Hellow  Good Morning\n"
     ]
    }
   ],
   "source": [
    "m=message('Good Morning')"
   ]
  },
  {
   "cell_type": "code",
   "execution_count": 12,
   "id": "1f97ab45",
   "metadata": {},
   "outputs": [
    {
     "name": "stdout",
     "output_type": "stream",
     "text": [
      "None\n"
     ]
    }
   ],
   "source": [
    "print(m)"
   ]
  },
  {
   "cell_type": "code",
   "execution_count": 13,
   "id": "f9874754",
   "metadata": {},
   "outputs": [
    {
     "name": "stdout",
     "output_type": "stream",
     "text": [
      "[1, 2, 3, 4, 5, 6]\n"
     ]
    }
   ],
   "source": [
    "L=[1,2,3,4,5]\n",
    "L.append(6)\n",
    "print(L)"
   ]
  },
  {
   "cell_type": "code",
   "execution_count": 14,
   "id": "ea8a3549",
   "metadata": {},
   "outputs": [
    {
     "name": "stdout",
     "output_type": "stream",
     "text": [
      "None\n"
     ]
    }
   ],
   "source": [
    "print(L.append(88))"
   ]
  },
  {
   "cell_type": "markdown",
   "id": "894c04f7",
   "metadata": {},
   "source": [
    "## variable scope"
   ]
  },
  {
   "cell_type": "code",
   "execution_count": 17,
   "id": "eb03c64c",
   "metadata": {},
   "outputs": [
    {
     "name": "stdout",
     "output_type": "stream",
     "text": [
      "11\n",
      "12\n",
      "10\n"
     ]
    }
   ],
   "source": [
    "def print_num(y):\n",
    "    print(x+1) \n",
    "    print(x+2)\n",
    "  \n",
    "x = 10   # global variable or main program level variable\n",
    "\n",
    "print_num(x)\n",
    "print(x)"
   ]
  },
  {
   "cell_type": "markdown",
   "id": "659cf7a2",
   "metadata": {},
   "source": [
    "### local variable can not be used outside function or treated as global variable\n",
    "### global variable also called as main variable/program level variable\n",
    "### global variable can be used locally but local varaible can not be used globally"
   ]
  },
  {
   "cell_type": "code",
   "execution_count": 22,
   "id": "78f392ac",
   "metadata": {},
   "outputs": [
    {
     "name": "stdout",
     "output_type": "stream",
     "text": [
      "281\n",
      "201\n"
     ]
    }
   ],
   "source": [
    "def print_num(inpts):\n",
    "    a=10  ## local variable\n",
    "    b=20  ## local variable\n",
    "    c=40  ## local variable\n",
    "    return a+b+c+inpts+x\n",
    "  \n",
    "print(print_num(10))\n",
    "\n",
    "x = 201\n",
    "\n",
    "print(x)\n"
   ]
  },
  {
   "cell_type": "code",
   "execution_count": 23,
   "id": "abd3b8c7",
   "metadata": {},
   "outputs": [
    {
     "name": "stdout",
     "output_type": "stream",
     "text": [
      "2\n",
      "5\n"
     ]
    }
   ],
   "source": [
    "def f(y):\n",
    "    x=1\n",
    "    x+=1\n",
    "    print(x)\n",
    "    \n",
    "x=5\n",
    "f(x)\n",
    "print(x)"
   ]
  },
  {
   "cell_type": "code",
   "execution_count": 24,
   "id": "594d96ab",
   "metadata": {},
   "outputs": [
    {
     "ename": "UnboundLocalError",
     "evalue": "local variable 'x' referenced before assignment",
     "output_type": "error",
     "traceback": [
      "\u001b[1;31m---------------------------------------------------------------------------\u001b[0m",
      "\u001b[1;31mUnboundLocalError\u001b[0m                         Traceback (most recent call last)",
      "Cell \u001b[1;32mIn[24], line 5\u001b[0m\n\u001b[0;32m      2\u001b[0m     x\u001b[38;5;241m+\u001b[39m\u001b[38;5;241m=\u001b[39m\u001b[38;5;241m1\u001b[39m\n\u001b[0;32m      4\u001b[0m x\u001b[38;5;241m=\u001b[39m\u001b[38;5;241m5\u001b[39m\n\u001b[1;32m----> 5\u001b[0m \u001b[43mh\u001b[49m\u001b[43m(\u001b[49m\u001b[43mx\u001b[49m\u001b[43m)\u001b[49m\n\u001b[0;32m      6\u001b[0m \u001b[38;5;28mprint\u001b[39m(x)\n",
      "Cell \u001b[1;32mIn[24], line 2\u001b[0m, in \u001b[0;36mh\u001b[1;34m(y)\u001b[0m\n\u001b[0;32m      1\u001b[0m \u001b[38;5;28;01mdef\u001b[39;00m \u001b[38;5;21mh\u001b[39m(y):\n\u001b[1;32m----> 2\u001b[0m     x\u001b[38;5;241m+\u001b[39m\u001b[38;5;241m=\u001b[39m\u001b[38;5;241m1\u001b[39m\n",
      "\u001b[1;31mUnboundLocalError\u001b[0m: local variable 'x' referenced before assignment"
     ]
    }
   ],
   "source": [
    "def h(y):\n",
    "    x+=1\n",
    "\n",
    "x=5\n",
    "h(x)\n",
    "print(x)"
   ]
  },
  {
   "cell_type": "code",
   "execution_count": 25,
   "id": "f93f52ea",
   "metadata": {},
   "outputs": [
    {
     "name": "stdout",
     "output_type": "stream",
     "text": [
      "4\n",
      "4\n",
      "3\n"
     ]
    }
   ],
   "source": [
    "def f(x):\n",
    "    x=x+1\n",
    "    print(x)\n",
    "    return x\n",
    "\n",
    "x = 3\n",
    "z = f(x)\n",
    "print(z)\n",
    "print(x)"
   ]
  },
  {
   "cell_type": "markdown",
   "id": "7fa2a16b",
   "metadata": {},
   "source": [
    "## nested function"
   ]
  },
  {
   "cell_type": "code",
   "execution_count": 30,
   "id": "31f522fd",
   "metadata": {},
   "outputs": [],
   "source": [
    "def f():\n",
    "    def g():\n",
    "        print('function g')\n",
    "    g()    \n",
    "    print('function f')"
   ]
  },
  {
   "cell_type": "code",
   "execution_count": 31,
   "id": "02d2c6e0",
   "metadata": {},
   "outputs": [
    {
     "name": "stdout",
     "output_type": "stream",
     "text": [
      "function g\n",
      "function f\n"
     ]
    }
   ],
   "source": [
    "f()"
   ]
  },
  {
   "cell_type": "code",
   "execution_count": null,
   "id": "e49bf885",
   "metadata": {},
   "outputs": [],
   "source": [
    "## this will run infinite time\n",
    "def f():\n",
    "    def g():\n",
    "        print('function g')\n",
    "        f()\n",
    "    g()    \n",
    "    print('function f')\n",
    "    \n",
    "f()    "
   ]
  },
  {
   "cell_type": "code",
   "execution_count": 33,
   "id": "ae933755",
   "metadata": {},
   "outputs": [
    {
     "name": "stdout",
     "output_type": "stream",
     "text": [
      "4\n",
      "3\n"
     ]
    }
   ],
   "source": [
    "def g(x):\n",
    "    def h():\n",
    "        x = 'abc'\n",
    "    x = x+1\n",
    "    print(x)\n",
    "    h()\n",
    "    return x\n",
    "\n",
    "x=3\n",
    "z=g(x)\n",
    "print(x)"
   ]
  },
  {
   "cell_type": "code",
   "execution_count": 35,
   "id": "478df083",
   "metadata": {},
   "outputs": [
    {
     "name": "stdout",
     "output_type": "stream",
     "text": [
      "4\n",
      "5\n",
      "3\n",
      "4\n"
     ]
    }
   ],
   "source": [
    "def g(x):\n",
    "    def h(x):\n",
    "        x=x+1\n",
    "        print(x)\n",
    "    x=x+1\n",
    "    print(x)\n",
    "    h(x)\n",
    "    return x\n",
    "\n",
    "x=3\n",
    "z = g(x)\n",
    "print(x)\n",
    "print(z)\n"
   ]
  },
  {
   "cell_type": "markdown",
   "id": "842f863a",
   "metadata": {},
   "source": [
    "## functions are 1st class citizens that means they act like datatypes, function has right like datatypes\n",
    "### whatever work is done from datatypes can also be performed form functions---for exp- we can store in variable, we can delete them, we can store in list, we can return it, we can pass as an arguments etc..."
   ]
  },
  {
   "cell_type": "markdown",
   "id": "8fd249f6",
   "metadata": {},
   "source": [
    "## returning a function"
   ]
  },
  {
   "cell_type": "code",
   "execution_count": 37,
   "id": "d3ad6958",
   "metadata": {},
   "outputs": [
    {
     "name": "stdout",
     "output_type": "stream",
     "text": [
      "7\n"
     ]
    }
   ],
   "source": [
    "def f():\n",
    "    def x(a,b):\n",
    "        return a+b\n",
    "    return x\n",
    "\n",
    "val=f()(3,4)\n",
    "print(val)    "
   ]
  },
  {
   "cell_type": "code",
   "execution_count": 38,
   "id": "846ee4cd",
   "metadata": {},
   "outputs": [
    {
     "name": "stdout",
     "output_type": "stream",
     "text": [
      "inside function b\n",
      "inside function a\n",
      "None\n"
     ]
    }
   ],
   "source": [
    "def func_a():\n",
    "    print('inside function a')\n",
    "\n",
    "def func_b(z):\n",
    "    print('inside function b')\n",
    "    return z()\n",
    "\n",
    "print(func_b(func_a))"
   ]
  },
  {
   "cell_type": "markdown",
   "id": "0782794b",
   "metadata": {},
   "source": [
    "## benefits of using a function\n",
    "### code modularity\n",
    "### code readibility\n",
    "### code reusability"
   ]
  },
  {
   "cell_type": "code",
   "execution_count": null,
   "id": "b07125ed",
   "metadata": {},
   "outputs": [],
   "source": []
  },
  {
   "cell_type": "markdown",
   "id": "84515fc5",
   "metadata": {},
   "source": [
    "## lambda function\n",
    "### a lambda function is a small anonymous function\n",
    "### a lambda function can take any number of arguments, but can only have one expression"
   ]
  },
  {
   "cell_type": "code",
   "execution_count": 46,
   "id": "86288368",
   "metadata": {},
   "outputs": [],
   "source": [
    "x = lambda r: r+1"
   ]
  },
  {
   "cell_type": "code",
   "execution_count": 49,
   "id": "8acf0315",
   "metadata": {},
   "outputs": [
    {
     "name": "stdout",
     "output_type": "stream",
     "text": [
      "<function <lambda> at 0x000001D9BF7489D0>\n"
     ]
    }
   ],
   "source": [
    "print(x)"
   ]
  },
  {
   "cell_type": "code",
   "execution_count": null,
   "id": "dfd56911",
   "metadata": {},
   "outputs": [],
   "source": [
    "a = lambda x: x**2"
   ]
  },
  {
   "cell_type": "code",
   "execution_count": 40,
   "id": "cdae8139",
   "metadata": {},
   "outputs": [
    {
     "data": {
      "text/plain": [
       "4"
      ]
     },
     "execution_count": 40,
     "metadata": {},
     "output_type": "execute_result"
    }
   ],
   "source": [
    "a(2)"
   ]
  },
  {
   "cell_type": "code",
   "execution_count": 41,
   "id": "4a5eb9db",
   "metadata": {},
   "outputs": [
    {
     "data": {
      "text/plain": [
       "64"
      ]
     },
     "execution_count": 41,
     "metadata": {},
     "output_type": "execute_result"
    }
   ],
   "source": [
    "a(8)"
   ]
  },
  {
   "cell_type": "code",
   "execution_count": 42,
   "id": "35ddfd16",
   "metadata": {},
   "outputs": [],
   "source": [
    "b = lambda x, y: x**2 + y**2"
   ]
  },
  {
   "cell_type": "code",
   "execution_count": 43,
   "id": "65299746",
   "metadata": {},
   "outputs": [
    {
     "data": {
      "text/plain": [
       "25"
      ]
     },
     "execution_count": 43,
     "metadata": {},
     "output_type": "execute_result"
    }
   ],
   "source": [
    "b(3,4)"
   ]
  },
  {
   "cell_type": "code",
   "execution_count": 44,
   "id": "ca63e0e0",
   "metadata": {},
   "outputs": [
    {
     "data": {
      "text/plain": [
       "130"
      ]
     },
     "execution_count": 44,
     "metadata": {},
     "output_type": "execute_result"
    }
   ],
   "source": [
    "b(7,9)"
   ]
  },
  {
   "cell_type": "code",
   "execution_count": null,
   "id": "d6315ed1",
   "metadata": {},
   "outputs": [],
   "source": []
  },
  {
   "cell_type": "markdown",
   "id": "0ad9982a",
   "metadata": {},
   "source": [
    "## diff between lambda vs normal function\n",
    "### no name\n",
    "### lambda has no return value (infact, returns a function)\n",
    "### lambda is written in 1 line\n",
    "### not reusable"
   ]
  },
  {
   "cell_type": "code",
   "execution_count": 50,
   "id": "f880eff6",
   "metadata": {},
   "outputs": [
    {
     "data": {
      "text/plain": [
       "False"
      ]
     },
     "execution_count": 50,
     "metadata": {},
     "output_type": "execute_result"
    }
   ],
   "source": [
    "# check if a string has 'a'\n",
    "a = lambda s: 'a' in s\n",
    "a('hellow')"
   ]
  },
  {
   "cell_type": "code",
   "execution_count": 52,
   "id": "8f8c81c0",
   "metadata": {},
   "outputs": [
    {
     "data": {
      "text/plain": [
       "'even'"
      ]
     },
     "execution_count": 52,
     "metadata": {},
     "output_type": "execute_result"
    }
   ],
   "source": [
    "# odd or even\n",
    "b = lambda x: 'even' if x%2==0 else 'odd'\n",
    "b(4)"
   ]
  },
  {
   "cell_type": "code",
   "execution_count": 53,
   "id": "a73691cc",
   "metadata": {},
   "outputs": [
    {
     "data": {
      "text/plain": [
       "'odd'"
      ]
     },
     "execution_count": 53,
     "metadata": {},
     "output_type": "execute_result"
    }
   ],
   "source": [
    "b(5)"
   ]
  },
  {
   "cell_type": "markdown",
   "id": "2fe282f2",
   "metadata": {},
   "source": [
    "## map "
   ]
  },
  {
   "cell_type": "code",
   "execution_count": 54,
   "id": "5d99559d",
   "metadata": {},
   "outputs": [
    {
     "data": {
      "text/plain": [
       "[1, 4, 9, 16, 25, 36, 49, 64]"
      ]
     },
     "execution_count": 54,
     "metadata": {},
     "output_type": "execute_result"
    }
   ],
   "source": [
    "## square the items of a list\n",
    "list(map(lambda x: x**2 ,[1,2,3,4,5,6,7,8]))"
   ]
  },
  {
   "cell_type": "code",
   "execution_count": 55,
   "id": "8526f3a6",
   "metadata": {},
   "outputs": [
    {
     "data": {
      "text/plain": [
       "['odd', 'even', 'odd', 'even', 'odd', 'even', 'odd', 'even']"
      ]
     },
     "execution_count": 55,
     "metadata": {},
     "output_type": "execute_result"
    }
   ],
   "source": [
    "## odd/even labelling of list items\n",
    "list(map(lambda x: 'even' if x%2==0 else 'odd' ,[1,2,3,4,5,6,7,8]))"
   ]
  },
  {
   "cell_type": "code",
   "execution_count": 56,
   "id": "be532245",
   "metadata": {},
   "outputs": [],
   "source": [
    "# fetch name from a list of dict\n",
    "\n",
    "user = [{'name': 'Ratan','age':30},{'name': 'Usha','age':20}]"
   ]
  },
  {
   "cell_type": "code",
   "execution_count": 57,
   "id": "e1018963",
   "metadata": {},
   "outputs": [
    {
     "name": "stdout",
     "output_type": "stream",
     "text": [
      "[{'name': 'Ratan', 'age': 30}, {'name': 'Usha', 'age': 20}]\n"
     ]
    }
   ],
   "source": [
    "print(user)"
   ]
  },
  {
   "cell_type": "code",
   "execution_count": 58,
   "id": "dc68dba2",
   "metadata": {},
   "outputs": [
    {
     "data": {
      "text/plain": [
       "['Ratan', 'Usha']"
      ]
     },
     "execution_count": 58,
     "metadata": {},
     "output_type": "execute_result"
    }
   ],
   "source": [
    "list(map(lambda x: x['name'] ,user))"
   ]
  },
  {
   "cell_type": "code",
   "execution_count": 59,
   "id": "f637f8f2",
   "metadata": {},
   "outputs": [
    {
     "data": {
      "text/plain": [
       "[30, 20]"
      ]
     },
     "execution_count": 59,
     "metadata": {},
     "output_type": "execute_result"
    }
   ],
   "source": [
    "list(map(lambda x: x['age'] ,user))"
   ]
  },
  {
   "cell_type": "markdown",
   "id": "d9a3b4f4",
   "metadata": {},
   "source": [
    "## filter"
   ]
  },
  {
   "cell_type": "code",
   "execution_count": 60,
   "id": "5b9f7548",
   "metadata": {},
   "outputs": [
    {
     "data": {
      "text/plain": [
       "[6, 7, 8, 9, 10]"
      ]
     },
     "execution_count": 60,
     "metadata": {},
     "output_type": "execute_result"
    }
   ],
   "source": [
    "L=[1,2,3,4,5,6,7,8,9,10]\n",
    "list(filter(lambda x: x>5,L))"
   ]
  },
  {
   "cell_type": "code",
   "execution_count": 61,
   "id": "ae7fe088",
   "metadata": {},
   "outputs": [
    {
     "data": {
      "text/plain": [
       "['apple']"
      ]
     },
     "execution_count": 61,
     "metadata": {},
     "output_type": "execute_result"
    }
   ],
   "source": [
    "fruits = ['apple','mango','cherry','orange']\n",
    "list(filter(lambda x: x.startswith('a') ,fruits))"
   ]
  },
  {
   "cell_type": "code",
   "execution_count": 62,
   "id": "3a1fe02b",
   "metadata": {},
   "outputs": [
    {
     "data": {
      "text/plain": [
       "['orange']"
      ]
     },
     "execution_count": 62,
     "metadata": {},
     "output_type": "execute_result"
    }
   ],
   "source": [
    "list(filter(lambda x: x.startswith('o') ,fruits))"
   ]
  },
  {
   "cell_type": "markdown",
   "id": "25e10401",
   "metadata": {},
   "source": [
    "## reduce"
   ]
  },
  {
   "cell_type": "code",
   "execution_count": 63,
   "id": "58384891",
   "metadata": {},
   "outputs": [
    {
     "data": {
      "text/plain": [
       "55"
      ]
     },
     "execution_count": 63,
     "metadata": {},
     "output_type": "execute_result"
    }
   ],
   "source": [
    "import functools\n",
    "\n",
    "# sum of all items\n",
    "functools.reduce(lambda x,y: x+y, [1,2,3,4,5,6,7,8,9,10])"
   ]
  },
  {
   "cell_type": "code",
   "execution_count": 64,
   "id": "2cc62acb",
   "metadata": {},
   "outputs": [
    {
     "data": {
      "text/plain": [
       "1"
      ]
     },
     "execution_count": 64,
     "metadata": {},
     "output_type": "execute_result"
    }
   ],
   "source": [
    "# find min value\n",
    "functools.reduce(lambda x,y:x if x<y else y, [1,2,3,4,5,6,7,8,9,10])"
   ]
  },
  {
   "cell_type": "code",
   "execution_count": 65,
   "id": "8973902f",
   "metadata": {},
   "outputs": [
    {
     "data": {
      "text/plain": [
       "10"
      ]
     },
     "execution_count": 65,
     "metadata": {},
     "output_type": "execute_result"
    }
   ],
   "source": [
    "# find max value\n",
    "functools.reduce(lambda x,y:x if x>y else y, [1,2,3,4,5,6,7,8,9,10])"
   ]
  },
  {
   "cell_type": "code",
   "execution_count": null,
   "id": "c1783d14",
   "metadata": {},
   "outputs": [],
   "source": []
  }
 ],
 "metadata": {
  "kernelspec": {
   "display_name": "Python 3 (ipykernel)",
   "language": "python",
   "name": "python3"
  },
  "language_info": {
   "codemirror_mode": {
    "name": "ipython",
    "version": 3
   },
   "file_extension": ".py",
   "mimetype": "text/x-python",
   "name": "python",
   "nbconvert_exporter": "python",
   "pygments_lexer": "ipython3",
   "version": "3.10.9"
  }
 },
 "nbformat": 4,
 "nbformat_minor": 5
}
